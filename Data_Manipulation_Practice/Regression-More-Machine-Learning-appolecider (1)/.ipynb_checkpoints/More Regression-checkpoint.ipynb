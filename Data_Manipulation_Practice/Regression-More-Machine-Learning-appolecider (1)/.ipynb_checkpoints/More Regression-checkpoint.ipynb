{
 "cells": [
  {
   "cell_type": "code",
   "execution_count": 6,
   "id": "7436ca9b",
   "metadata": {},
   "outputs": [],
   "source": [
    "import numpy as np\n",
    "import pandas as pd\n",
    "import seaborn as sns\n",
    "from sklearn import metrics\n",
    "import matplotlib.pyplot as plt\n",
    "from sklearn.model_selection import train_test_split\n",
    "from sklearn.metrics import classification_report, confusion_matrix\n",
    "from sklearn.linear_model import LinearRegression, LogisticRegression\n",
    "%matplotlib inline\n",
    "\n",
    "''' \n",
    "The best way to complete this activity is to copy the code in this file into a jupyter notebook file you create. You will also need to download the csv files with the data. This will allow you to see your outputs easier. Once you have finished with your code, copy it back into this file and submit it to Replit. Don't forget to also upload your new code to Github! \n",
    "'''\n",
    "\n",
    "# Linear Regression Practice\n",
    "\n",
    "# STEP 1: Import the housing data \n",
    "housing_data = pd.read_csv('Housing_Data.csv')\n"
   ]
  },
  {
   "cell_type": "code",
   "execution_count": 7,
   "id": "86022542",
   "metadata": {},
   "outputs": [
    {
     "data": {
      "text/html": [
       "<div>\n",
       "<style scoped>\n",
       "    .dataframe tbody tr th:only-of-type {\n",
       "        vertical-align: middle;\n",
       "    }\n",
       "\n",
       "    .dataframe tbody tr th {\n",
       "        vertical-align: top;\n",
       "    }\n",
       "\n",
       "    .dataframe thead th {\n",
       "        text-align: right;\n",
       "    }\n",
       "</style>\n",
       "<table border=\"1\" class=\"dataframe\">\n",
       "  <thead>\n",
       "    <tr style=\"text-align: right;\">\n",
       "      <th></th>\n",
       "      <th>Avg. Area Income</th>\n",
       "      <th>Avg. Area House Age</th>\n",
       "      <th>Avg. Area Number of Rooms</th>\n",
       "      <th>Avg. Area Number of Bedrooms</th>\n",
       "      <th>Area Population</th>\n",
       "      <th>Price</th>\n",
       "      <th>Address</th>\n",
       "    </tr>\n",
       "  </thead>\n",
       "  <tbody>\n",
       "    <tr>\n",
       "      <th>0</th>\n",
       "      <td>79545.458574</td>\n",
       "      <td>5.682861</td>\n",
       "      <td>7.009188</td>\n",
       "      <td>4.09</td>\n",
       "      <td>23086.800503</td>\n",
       "      <td>1.059034e+06</td>\n",
       "      <td>208 Michael Ferry Apt. 674\\nLaurabury, NE 3701...</td>\n",
       "    </tr>\n",
       "    <tr>\n",
       "      <th>1</th>\n",
       "      <td>79248.642455</td>\n",
       "      <td>6.002900</td>\n",
       "      <td>6.730821</td>\n",
       "      <td>3.09</td>\n",
       "      <td>40173.072174</td>\n",
       "      <td>1.505891e+06</td>\n",
       "      <td>188 Johnson Views Suite 079\\nLake Kathleen, CA...</td>\n",
       "    </tr>\n",
       "    <tr>\n",
       "      <th>2</th>\n",
       "      <td>61287.067179</td>\n",
       "      <td>5.865890</td>\n",
       "      <td>8.512727</td>\n",
       "      <td>5.13</td>\n",
       "      <td>36882.159400</td>\n",
       "      <td>1.058988e+06</td>\n",
       "      <td>9127 Elizabeth Stravenue\\nDanieltown, WI 06482...</td>\n",
       "    </tr>\n",
       "    <tr>\n",
       "      <th>3</th>\n",
       "      <td>63345.240046</td>\n",
       "      <td>7.188236</td>\n",
       "      <td>5.586729</td>\n",
       "      <td>3.26</td>\n",
       "      <td>34310.242831</td>\n",
       "      <td>1.260617e+06</td>\n",
       "      <td>USS Barnett\\nFPO AP 44820</td>\n",
       "    </tr>\n",
       "    <tr>\n",
       "      <th>4</th>\n",
       "      <td>59982.197226</td>\n",
       "      <td>5.040555</td>\n",
       "      <td>7.839388</td>\n",
       "      <td>4.23</td>\n",
       "      <td>26354.109472</td>\n",
       "      <td>6.309435e+05</td>\n",
       "      <td>USNS Raymond\\nFPO AE 09386</td>\n",
       "    </tr>\n",
       "  </tbody>\n",
       "</table>\n",
       "</div>"
      ],
      "text/plain": [
       "   Avg. Area Income  Avg. Area House Age  Avg. Area Number of Rooms  \\\n",
       "0      79545.458574             5.682861                   7.009188   \n",
       "1      79248.642455             6.002900                   6.730821   \n",
       "2      61287.067179             5.865890                   8.512727   \n",
       "3      63345.240046             7.188236                   5.586729   \n",
       "4      59982.197226             5.040555                   7.839388   \n",
       "\n",
       "   Avg. Area Number of Bedrooms  Area Population         Price  \\\n",
       "0                          4.09     23086.800503  1.059034e+06   \n",
       "1                          3.09     40173.072174  1.505891e+06   \n",
       "2                          5.13     36882.159400  1.058988e+06   \n",
       "3                          3.26     34310.242831  1.260617e+06   \n",
       "4                          4.23     26354.109472  6.309435e+05   \n",
       "\n",
       "                                             Address  \n",
       "0  208 Michael Ferry Apt. 674\\nLaurabury, NE 3701...  \n",
       "1  188 Johnson Views Suite 079\\nLake Kathleen, CA...  \n",
       "2  9127 Elizabeth Stravenue\\nDanieltown, WI 06482...  \n",
       "3                          USS Barnett\\nFPO AP 44820  \n",
       "4                         USNS Raymond\\nFPO AE 09386  "
      ]
     },
     "execution_count": 7,
     "metadata": {},
     "output_type": "execute_result"
    }
   ],
   "source": [
    "housing_data.head()"
   ]
  },
  {
   "cell_type": "code",
   "execution_count": null,
   "id": "8b2d308f",
   "metadata": {},
   "outputs": [],
   "source": [
    "# STEP 2: Regression is used to determine the relationship between two or more variables within a dataset.\n",
    "#We will be using the average area income, the average area house age, the average number of rooms,\n",
    "#the average number of bedrooms and the area population to make a prediction about the pricing of houses within an area. \n",
    "#Create two variables, x and y, to train your linear regression model.\n",
    "x = \n"
   ]
  },
  {
   "cell_type": "code",
   "execution_count": null,
   "id": "04a2ba3a",
   "metadata": {},
   "outputs": [],
   "source": [
    "# STEP 3: Use the appropriate scikit-learn method split your data into the segments that will be used for training and testing.\n",
    "#Generally, 75% of your data is used for training and 25% is used to test.\n",
    "X_train, X_test, y_train, y_test = \n"
   ]
  },
  {
   "cell_type": "code",
   "execution_count": null,
   "id": "2f4ed3f5",
   "metadata": {},
   "outputs": [],
   "source": [
    "# STEP 4: Create a linear regression model using the data you have manipulated and scikit-learn's LinearRegression feature.\n"
   ]
  },
  {
   "cell_type": "code",
   "execution_count": null,
   "id": "621c069e",
   "metadata": {},
   "outputs": [],
   "source": [
    "# STEP 5: Can you show the correlation coefficients of all the features in your model?\n"
   ]
  },
  {
   "cell_type": "code",
   "execution_count": null,
   "id": "45b4fcab",
   "metadata": {},
   "outputs": [],
   "source": [
    "# STEP 6: Create a visualization (scatterplot, histogram, etc) that shows your models predictions and the actual values.\n",
    "y_pred = "
   ]
  },
  {
   "cell_type": "code",
   "execution_count": null,
   "id": "d3b65966",
   "metadata": {},
   "outputs": [],
   "source": [
    "# STEP 7: To evaluate the performance of a model more than just the accuracy has to be considered. \n",
    "#There are other metrics like the mean absolute error, the mean squared error and the r-squared error. \n",
    "#Calculate these three metrics using scikit-learn's metrics import\n"
   ]
  },
  {
   "cell_type": "code",
   "execution_count": null,
   "id": "1dc7bc57",
   "metadata": {},
   "outputs": [],
   "source": [
    "# Logistic Regression Practice\n",
    "\n",
    "# STEP 1: Import the titanic data\n",
    "titanic_data = pd.read_csv('titanic.csv')\n"
   ]
  },
  {
   "cell_type": "code",
   "execution_count": null,
   "id": "026f1695",
   "metadata": {},
   "outputs": [],
   "source": [
    "# STEP 2: We will be using various features of the titanic data to predict whether or not a passenger survived.\n",
    "#Create x and y variables to train your logistic regression model. \n"
   ]
  },
  {
   "cell_type": "code",
   "execution_count": null,
   "id": "77cee5ed",
   "metadata": {},
   "outputs": [],
   "source": [
    "# STEP 3: Use the appropriate scikit-learn method split your data into the segments that will be used for training and testing. \n",
    "#Generally, 75% of your data is used for training and 25% is used to test.\n"
   ]
  },
  {
   "cell_type": "code",
   "execution_count": null,
   "id": "74723a96",
   "metadata": {},
   "outputs": [],
   "source": [
    "# STEP 4: Create a logistic regression model using the data you have manipulated and scikit-learn's LogisticRegression feature.\n"
   ]
  },
  {
   "cell_type": "code",
   "execution_count": null,
   "id": "aa866e39",
   "metadata": {},
   "outputs": [],
   "source": [
    "# STEP 5: Can you show the correlation coefficients of all the features in your model?\n"
   ]
  },
  {
   "cell_type": "code",
   "execution_count": null,
   "id": "5ef71154",
   "metadata": {},
   "outputs": [],
   "source": [
    "# STEP 6: Logistic regression models are evaluated differently than linear regression models.\n",
    "# Use the appropriate metrics features from scikit learn to create a report and a matrix for your model\n",
    "\n"
   ]
  }
 ],
 "metadata": {
  "kernelspec": {
   "display_name": "Python 3",
   "language": "python",
   "name": "python3"
  },
  "language_info": {
   "codemirror_mode": {
    "name": "ipython",
    "version": 3
   },
   "file_extension": ".py",
   "mimetype": "text/x-python",
   "name": "python",
   "nbconvert_exporter": "python",
   "pygments_lexer": "ipython3",
   "version": "3.10.7"
  }
 },
 "nbformat": 4,
 "nbformat_minor": 5
}
